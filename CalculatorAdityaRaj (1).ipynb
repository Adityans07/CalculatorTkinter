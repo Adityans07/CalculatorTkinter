{
 "cells": [
  {
   "cell_type": "code",
   "execution_count": 1,
   "id": "2754778f",
   "metadata": {},
   "outputs": [],
   "source": [
    "import tkinter as tk  \n",
    "from functools import partial"
   ]
  },
  {
   "cell_type": "code",
   "execution_count": 2,
   "id": "257d9fe8",
   "metadata": {},
   "outputs": [],
   "source": [
    "def addition(*args):\n",
    "    a = sum(args)\n",
    "    return a"
   ]
  },
  {
   "cell_type": "code",
   "execution_count": 3,
   "id": "acb10029",
   "metadata": {},
   "outputs": [],
   "source": [
    "def subtraction(*args):\n",
    "    a = args[0]\n",
    "    for i in range(1,len(args)):\n",
    "        a -= args[i]\n",
    "    return a"
   ]
  },
  {
   "cell_type": "code",
   "execution_count": 4,
   "id": "27e675fa",
   "metadata": {},
   "outputs": [],
   "source": [
    "def multiply(*args):\n",
    "    a=1\n",
    "    for i in args:\n",
    "        a *= i\n",
    "    return a"
   ]
  },
  {
   "cell_type": "code",
   "execution_count": 5,
   "id": "79b48db3",
   "metadata": {},
   "outputs": [],
   "source": [
    "def divide(a,b):\n",
    "    return round(a/b,3)"
   ]
  },
  {
   "cell_type": "code",
   "execution_count": 6,
   "id": "2931181f",
   "metadata": {},
   "outputs": [],
   "source": [
    "def hcf(x,y):\n",
    "    if x>y:\n",
    "        smaller = y\n",
    "    else:\n",
    "        smaller = x\n",
    "    for i in range(1,smaller+1):\n",
    "        if (x%i==0) and (y%i==0):\n",
    "            hcf = i\n",
    "    return hcf"
   ]
  },
  {
   "cell_type": "code",
   "execution_count": null,
   "id": "64af9488",
   "metadata": {},
   "outputs": [],
   "source": []
  },
  {
   "cell_type": "code",
   "execution_count": null,
   "id": "d12ef5e0",
   "metadata": {},
   "outputs": [],
   "source": []
  },
  {
   "cell_type": "code",
   "execution_count": null,
   "id": "89a24d04",
   "metadata": {},
   "outputs": [],
   "source": []
  },
  {
   "cell_type": "code",
   "execution_count": 7,
   "id": "dae97ecf",
   "metadata": {},
   "outputs": [
    {
     "data": {
      "text/plain": [
       "72"
      ]
     },
     "execution_count": 7,
     "metadata": {},
     "output_type": "execute_result"
    }
   ],
   "source": [
    "multiply(9,8)"
   ]
  },
  {
   "cell_type": "code",
   "execution_count": 8,
   "id": "5ac8d215",
   "metadata": {},
   "outputs": [
    {
     "data": {
      "text/plain": [
       "36"
      ]
     },
     "execution_count": 8,
     "metadata": {},
     "output_type": "execute_result"
    }
   ],
   "source": [
    "subtraction(45,4,5)"
   ]
  },
  {
   "cell_type": "code",
   "execution_count": 9,
   "id": "724219ab",
   "metadata": {},
   "outputs": [
    {
     "data": {
      "text/plain": [
       "3.0"
      ]
     },
     "execution_count": 9,
     "metadata": {},
     "output_type": "execute_result"
    }
   ],
   "source": [
    "divide(9,3)"
   ]
  },
  {
   "cell_type": "code",
   "execution_count": 10,
   "id": "f90d67a0",
   "metadata": {},
   "outputs": [
    {
     "data": {
      "text/plain": [
       "12"
      ]
     },
     "execution_count": 10,
     "metadata": {},
     "output_type": "execute_result"
    }
   ],
   "source": [
    "hcf(24,36)"
   ]
  },
  {
   "cell_type": "code",
   "execution_count": 12,
   "id": "c118d249",
   "metadata": {},
   "outputs": [],
   "source": [
    "root = tk.Tk()\n",
    "root.geometry(\"500x500\")\n",
    "root.title(\"Calculator\")\n",
    "def choose(label_result,e1,e2,e3):\n",
    "    op = (e3.get())\n",
    "    op = int(op)\n",
    "    n1 = (e1.get())\n",
    "    n1 = int(n1)\n",
    "    n2 = (e2.get())\n",
    "    n2= int(n2)\n",
    "    if op == 1:\n",
    "        sum1 = addition(n1,n2)\n",
    "    elif op == 2:\n",
    "        sum1 =subtraction(n1,n2)\n",
    "    elif op ==3:\n",
    "        sum1 =multiply(n1,n2)\n",
    "    elif op ==4:\n",
    "        sum1 = divide(n1,n2)\n",
    "    elif op == 5:\n",
    "        sum1 = hcf(n1,n2)\n",
    "    label_result.config(text = \"Result = \"+str(sum1))\n",
    "    return\n",
    "\n",
    "number1 = tk.StringVar()\n",
    "number2 = tk.StringVar()\n",
    "number3 = tk.StringVar()\n",
    "\n",
    "l1 = tk.Label(root,text = \"1. Addition\").grid(row =0)\n",
    "l8 = tk.Label(root,text=\"2. Subtraction\").grid(row =1)\n",
    "\n",
    "l2 = tk.Label(root,text=\"3. Multiply\").grid(row =2)\n",
    "l3 = tk.Label(root,text=\"4. Divide\").grid(row =3)\n",
    "l7 = tk.Label(root,text = \"5. HCF\").grid(row=4)\n",
    "l4 = tk.Label(root, text = \"Number 1\").grid(row =5)\n",
    "e1 = tk.Entry(root,textvariable=number1).grid(row = 5, column = 1)\n",
    "l5 = tk.Label(root, text = \"Number 2\").grid(row =6)\n",
    "e2 = tk.Entry(root,textvariable=number2).grid(row =6,column = 1)\n",
    "l6 = tk.Label(root,text = \"operation\").grid(row =7)\n",
    "e3 = tk.Entry(root,textvariable=number3).grid(row =7 ,column =1)\n",
    "\n",
    "labelResult = tk.Label(root)\n",
    "  \n",
    "labelResult.grid(row=10, column=1) \n",
    "choose = partial(choose,labelResult,number1,number2,number3)\n",
    "btn = tk.Button(root, text=\"Calculate\",command = choose).grid(row =8, column = 1)\n",
    "\n",
    "root.mainloop()"
   ]
  },
  {
   "cell_type": "code",
   "execution_count": null,
   "id": "f5ce60c7",
   "metadata": {},
   "outputs": [],
   "source": []
  },
  {
   "cell_type": "code",
   "execution_count": null,
   "id": "0a435319",
   "metadata": {},
   "outputs": [],
   "source": []
  }
 ],
 "metadata": {
  "kernelspec": {
   "display_name": "Python 3",
   "language": "python",
   "name": "python3"
  },
  "language_info": {
   "codemirror_mode": {
    "name": "ipython",
    "version": 3
   },
   "file_extension": ".py",
   "mimetype": "text/x-python",
   "name": "python",
   "nbconvert_exporter": "python",
   "pygments_lexer": "ipython3",
   "version": "3.8.8"
  }
 },
 "nbformat": 4,
 "nbformat_minor": 5
}
